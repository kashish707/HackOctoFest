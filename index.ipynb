import numpy as np
import sys
a = np.array([1,2,3])
print(a)
c= [20.1, 20.8, 21.9, 22.5, 22.7, 22.3, 21.8, 21.2, 20.9, 20.1]
print(sys.getsizeof(c))
TC=np.array(c)
print(sys.getsizeof(TC))
print(TC)
print(type(TC))
print("Temprature in degrees Fahrenheit")
print(TC*9/5+32)
a=[10,20]
print(a)
